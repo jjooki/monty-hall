{
 "cells": [
  {
   "cell_type": "markdown",
   "id": "a875e87d",
   "metadata": {},
   "source": [
    "## Monty-Hall Problem"
   ]
  },
  {
   "cell_type": "code",
<<<<<<< HEAD
   "execution_count": 55,
   "id": "3d786237",
   "metadata": {
    "ExecuteTime": {
     "end_time": "2022-09-23T16:16:59.578399Z",
     "start_time": "2022-09-23T16:16:59.571393Z"
    },
    "code_folding": []
   },
   "outputs": [],
   "source": [
    "# Created by jjooki\n",
    "import numpy as np\n",
    "import matplotlib.pyplot as plt\n",
    "\n",
    "# Assign door randomly\n",
    "# Return integer in [1,3]\n",
    "def shuffle():\n",
    "    return np.random.randint(1, 4)\n",
    "\n",
    "# Determine which door is opened after finished first time choice.\n",
    "# Return integer in [1,3]\n",
    "def open_door(choice1, correct):\n",
    "    # Case 1: 1st choice is car door!\n",
    "    if choice1 == correct:\n",
    "        doors = [i for i in range(1, 4) if i != correct]\n",
    "        return doors[np.random.randint(2)]\n",
    "    # Case 2: 1st choice is goose door!\n",
    "    else:\n",
    "        doors = [i for i in range(1, 4) if (i != correct) and (i != choice1)]\n",
    "        return doors[0]\n",
    "\n",
    "# Check whether 2nd choice is car or not.\n",
    "# Return 'boolean'\n",
    "def check_correct(choice1, choice2, open_door, correct):\n",
    "    if choice2 == 'stay':\n",
    "        last_choice = choice1\n",
    "    elif choice2 == 'change':\n",
    "        doors = [i for i in range(1, 4) if (i != open_door) and (i != choice1)]\n",
    "        last_choice = door[0]\n",
    "    \n",
    "    return last_choice == correct"
   ]
  },
  {
   "cell_type": "code",
   "execution_count": 56,
   "id": "5c5ecb54",
   "metadata": {
    "ExecuteTime": {
     "end_time": "2022-09-23T16:16:59.608426Z",
     "start_time": "2022-09-23T16:16:59.594414Z"
    }
   },
   "outputs": [],
   "source": [
    "# Simulator n-times random monti hall situation.\n",
    "# Return count 'dictionary' which keys are 'stay choice' and 'change choice'\n",
    "def simulation(n):\n",
    "    choice1 = np.random.randint(1,4)\n",
    "    count = {'stay' : 0, 'change' : 0}\n",
    "    count_stay = 0\n",
    "    count_change = 0\n",
    "    for i in range(n):\n",
    "        if check_correct(choice1, 'stay', open_door(choice1, correct), shuffle_correct()):\n",
    "            count['stay'] += 1\n",
    "        else:\n",
    "            count['change'] += 1\n",
    "    return count"
   ]
  },
  {
   "cell_type": "code",
   "execution_count": 71,
   "id": "3c8590a4",
   "metadata": {
    "ExecuteTime": {
     "end_time": "2022-09-23T16:21:24.565299Z",
     "start_time": "2022-09-23T16:21:24.558292Z"
    }
   },
   "outputs": [],
   "source": [
    "# Plot Monti Hall Simulator result with matplotlib.pyplot.\n",
    "def visualization(count):\n",
    "    plt.figure(figsize=(10,5))\n",
    "    plt.bar(count.keys(), count.values())\n",
    "    plt.title(f\"Monti Hall {count['stay'] + count['change']} Times Simulation\",\n",
    "              fontsize=18)\n",
    "    plt.xlabel('Choice', fontsize=14)\n",
    "    plt.ylabel('Count', fontsize=14)\n",
    "    plt.show()"
   ]
  },
  {
   "cell_type": "code",
   "execution_count": 73,
   "id": "590a357a",
   "metadata": {
    "ExecuteTime": {
     "end_time": "2022-09-23T16:21:32.735249Z",
     "start_time": "2022-09-23T16:21:32.563093Z"
    },
    "scrolled": true
   },
=======

   "execution_count": 17,
   "id": "3d786237",
   "metadata": {},
>>>>>>> 56848a15d01e8fced0e7c1fee4b4f17d1b475ea6
   "outputs": [
    {
     "name": "stdout",
     "output_type": "stream",
     "text": [
      "몬티홀을 반복할 횟수를 입력하세요: 10000\n",
      "선택지를 바꿨을 때, 성공확률은 67.09%입니다.\n"
     ]
    },
    {
     "data": {
<<<<<<< HEAD
      "image/png": "iVBORw0KGgoAAAANSUhEUgAAAm4AAAFVCAYAAABW/WPgAAAAOXRFWHRTb2Z0d2FyZQBNYXRwbG90bGliIHZlcnNpb24zLjMuNCwgaHR0cHM6Ly9tYXRwbG90bGliLm9yZy8QVMy6AAAACXBIWXMAAAsTAAALEwEAmpwYAAAlpElEQVR4nO3de5xlVX3n/c9XMAoiCNIQ7EabjB0ViKi0iDExKl4QkwCTkIdoFBMmTRCN5sH4gCbjJSHB0XEUI2TwBggJ0/pIQNEogkxMRLBRlJuEDrTSNEO3N2xQUOA3f+xVcjh9qrqqqUvvqs/79Tqvc85vr733OnU59a291t4nVYUkSZK2fg+b6w5IkiRpcgxukiRJPWFwkyRJ6gmDmyRJUk8Y3CRJknrC4CZJktQTBjdpjiV5dZJK8ry57gtAkjVJLh2qXZpkzdz0aH5q3/Mz5rofs2Vr+RmayX4keVv7vi6die1LYHDTPJPkee2Ns5L83Thtdkvy09bm0lns19uSPOYhbmfsD8PyCfZTSd74UPbzUCR5UZK/T/LVJHdvLpQmeUSSdyS5Ock9Sf4jyV8kefg47Z+V5AtJNib5UZJ/TvK02d720Hpj4Xsyt0s3t72+SPKLSd6d5Jr2NbsjyY1Jzk3yn+e6fzMhyWFJ3jbX/dDCte1cd0CaIXcDL09yfFXdM7TslUCAe2exP88D3gqcAfxwaNnHgHOBn85if2bSK4CXA9cA1wNP20z7/wUcCnwEuAx4NvBXwBOBVw82THIgcClwK/BfW/m1wJeS/GpVXT2L2x70L3Q/V4PeAjx5RP32dr8dcN8E29yqJXkCcAWwI3AOcFpb9ETgZcAOwCcHVnkx3e9d3x0GHAW8bcSyvwZOBobfc6RpY3DTfHUe8Pt0f7RXDi37Q+AzwEGz3alRquo+evwHfIS3AMdU1T3tyN/TxmuY5BC679F7qur4Vv5Qkh8C/2+S06vqywOrnEIXcJ9bVbe2baykC4j/nS4czPi2h1XVTcBNQ6/tvwBPrqqzx1nn7vG21xNvBHYDDquq84eW/VmSJYOFqpov/5iMq6ruZXb/IdQC5FCp5quvAd+gC2k/l+QAYB/go+Ot2IZC/i3Jne32b0kOHdFuTZsv8+QkFw4MFX0iyS8OtDuD7mgbwM0DQ2Zva8tnfI5bktck+XySW9sw8W1Jzp6JuThVdeuIo5zjeXm7f+9Qfez5H4wVkjwReCbw8bFgNbY/4OPACwe/7jO87YcsI+a4jdWSvCDJZUl+nGRtkv+vLd85yYeTrG/LPp3kcSO2vVOSdyZZ3YaINyT5xyS/NNTukemG329o2/thkquTvGsSL2FZu7941MKqWju0r03mlo3VkixNcl7b/w/a12CHJA9L8uY21H13kq8lec7QNsb9/Rm1z1GSHND2+e/t67Cx/d4fPrw9uqNtY9+rsdurW23kHLf2+j6W5PY8MGT/N0m2H2o3tv6T2vK1rf032j8ikkfcNK99FHhPkiUDf0T+CFgPfHrUCkleA3wA+BbdsEfRDan9U5Jjqur0oVUW0w2vnQf8ObAfcAzd8NHYEZr/2Z4fDvwZ8N1W/+ZDeG07Jdl1VH2c9m8EvkJ3VOn7wL7AfwFekORXqup7D6EvD8UzgVur6pbBYlXdkmRdWz7YFrohz2Ffofve7g9cOAvbnklPB34LOB04C/g94OQkd9OFhjV0w3RPBP60tXnh2MpJdgK+DDyeboj4WmAP4DXA5UmWV9W3W/MP0L22s4D/AWxDF8heMIl+/ke7/+Mk760t/+DrRwGX0A03n0D3vfgj4JHA94BnAe8HHk73c/ypJE+oqo1buL9RDqcb1l4JfBt4LN3X+pNJXlFV/9DanUR3wOPXefAQ+OCR2wfJA0PKO9ENJ/873dSJE4HnJDmoHakbdCbwM+DdwC8Ab6B7D/rlqlqzxa9S80NVefM2b250b4hF9wb/WLq5Jm9uy7ajm1/27vb8TuDSgXV3brXVwI4D9R3p/khtBB4zUF/T9vV7Q334QKs/eaD2tlZbOqLPr27LnjeJ1ze2nc3d3ji03qNGbOug1vZNQ/U1g1+XVrsUWLMF3483TvTa2tf08nGWXQGsG3h+fNvWS0e0PaQtWzEb257ka7+0e4sdd3kBZ4yo3Q88a6D2C8BtrX7KUPv3tHWeNFB7H/ATYL+htk8AfjS4T7oQ/5kt/F37JeCOtv/v0M1zewOw/wRfjzUjagX8+VD9k+31rgIePlD/7db+mMn8/kywz+HaqN+P7YEbgOuG6meM931lxO95+7oUcMhQ23e1+tEj1v80kIH6M1v9b7fke+Vtft0cKtW8Vd1RpAt4YBL6f6b7r/cj46zyIrr//k+pqh8NbOdHdP/x78DAkY1mXVUNz6G7pN0/cYs7v3nH0fV3+DbybNKqugugDT2NHa37Bt0f3mfNYD83Z3vGn8h9d1s+2JZx2t891Gamtz2TLquqy8eeVDc37Aq6if2nDLX9UrtfBpAkdCeH/Atwa5Jdx27AXXRHDwfn6t0B7JNk36l2srp5ffvR/aMC3dD0/wBWJflmkv0nuan76H6/Bn2J7vX+fVX9bKgODwzTToux3w+AJNsneSzd9/sS4ClJdtyS7SZ5GF3Y/HpVfWZo8d/ShdPDN1kR3ldVPz+CWVVfpftHZFpft/rJoVLNdx8FLkzya3TDL1dU1XXjtN2r3V87Ytk17f6Xhuo3DTekG96B7ojfTLmiqlYNF5OMnBid5AV0Z0o+i24IatDO09+9Sfsx8Ihxlj2yLR9syzjtHznUZqa3PZNG/Uz9oN3fPE597GdtUXv8YmDDONu/f+DxG+jOar46yU3AF4FPAZ+qqvtHrPsg1Q3bvRZ4bZI9gF+jG0L8LeDTSfapqu9vZjO31aYnaox8vVX1gy6bTu/vVpLd6KZGHEp3wsWwx9AdrZyqRXT/8G3ynlJV309yG5u+p8Don4HvM7PvKeoJg5vmu8/RXd7hrcDzgWMnaLsllyqY6GzQreLSB0meCXyebgj4BLo/hj+hG3o5l7k9SWkd3TzBURbTfe8G247VR7VlRPuZ2vZMGvdnqrozkEfJ0P0XgHdubkdVdX6bSH8I8Bt0R5SPprsEygtrCmeCVtVtdCdyfDzJOXRH4A4BRp5VO2Ci36HNvV7ofo7Hs9m/ce0o5eeBp9Ad0fwq3ZHI++hObno5W/47sqXvAZN53VqgDG6a16rqviRn0U0E/gldUBnP2GTrfdj0TLm92/2o/4Qn1ZUtXG86vJxu0vlLq+rnRzCSPIq5PdoG3R/JVyTZswZOIkiyJ/A4uqHuwbbQXYvtQ0PbOZDua3zlLG17a7WBbh7njlX1hcms0I6InQ2c3ULMycCb6I4+fXwL+/EVup+78YLzdBo7orfLiGV70U3yn8hT6YZ831FVbx1ckO6SLsOm8ru8nm6Ic5/hBUl2pjtp5KopbE9yjpsWhL8H3g78SVXdMUG7i+jmAb0uyaPHiu3x6+hOXLhoC/twZ7sf9cdlpo399z783/qbmfv3gH9s928Yqo89P2esUFWr6SarHzF4CYz2+Ajgkqr6P7O07a1SG948Bzggye+OatOGBUmyTYY+yaPNq/p6ezrhz2q6T+nYbkT9YXRDpQDjTUuYTv/e7h80/zTJ79MF9M0Z+fvR5v2Nmn92Z1u+2d/l9v34FPD0JAcPLT6B7vfvvEn0Ufo5j7hp3quq7zD6KufD7X6Y5E10k60vzwPX2Ho13YkGx2wm+E3kK+3+nW0Y6W7gmqq6ZoJ1pst5dJch+UyS0+kuMvsiuiMN351oxS2R5Kl0E7IBxq659co2zxDg/WNfx6q6MMmn6S6IuxMPfLrB0cDZVfWvQ5t/Pd08rC8lGZvQ/jq6P4DHDzacyW1v5d5C93Vfme4Cwl+h+54/gW7o8kq6n+lHA7cluYAurK2nO0J1LN0cs09tZj9vpLucxaforpt4B/CLwO/QXTrli8zC5VOq6oYkXwCOaUcMr6K76PPhdNMDRn682YDr6eagvaldV+0G4JfpLutzDfCMofZfoZvXd2qSC+mO6F0+eDR7yJvpft/+KcmprU/PBf4fupNIzpz0i5UwuEkPUlWntgnDf84DF839BnB4Vf3TQ9juv6W7iOqfAB+k+917Ow+c9DBj2r5/B/hLuo97+gndHKjfoPvDMd2e0fYz6I8GHp9N90d+zBHAX9BdEPeVPPCRUycPb7iqvpzuQqt/zQPX2fsycERVfWNEX2Zy21ulqroj3UVqj6e7BtyhdFfzXwv8Kw8MBf+Y7mLEB9EdrdqB7rIjF9BddmIdE/truq/vc4GX0B2hu4suCB0PfGAyJzhMk1fSnZn6ivb4S3RzWk8Dlk60YptO8TK6a6YdRXdm+TXt8X5sGtz+ke5ae0fSvf6H0c2FGxncqurbSZ4FvIPu5/AxdN+LvwX+uja9hps0oQyccSxJkqSt2FzPb5EkSdIkGdwkSZJ6wuAmSZLUEwY3SZKknjC4SZIk9cSCuRzIrrvuWkuXLp3rbkiSJG3WlVde+d2qWjRcXzDBbenSpaxatclnckuSJG11knx7VN2hUkmSpJ4wuEmSJPWEwU2SJKknDG6SJEk9YXCTJEnqCYObJElSTxjcJEmSesLgJkmS1BMGN0mSpJ4wuEmSJPWEwU2SJKknFsxnlUrSfLD0hAvnugvSgrbm5JfN6f494iZJktQTBjdJkqSeMLhJkiT1hMFNkiSpJwxukiRJPWFwkyRJ6gmDmyRJUk8Y3CRJknrC4CZJktQTBjdJkqSeMLhJkiT1hMFNkiSpJwxukiRJPWFwkyRJ6gmDmyRJUk8Y3CRJknrC4CZJktQTBjdJkqSeMLhJkiT1hMFNkiSpJwxukiRJPTGrwS3JY5J8Ism3klyf5NlJdklyUZIb2/3OA+1PTLI6yQ1JXjJQ3z/J1W3ZKUkym69DkiRpLsz2Ebf3Af9cVU8G9gOuB04ALq6qZcDF7TlJ9gaOBPYBDgZOTbJN285pwApgWbsdPJsvQpIkaS7MWnBLsiPwXODDAFX106r6IXAocGZrdiZwWHt8KHBuVd1TVTcDq4EDkuwB7FhVl1VVAWcNrCNJkjRvzeYRt18CNgAfTfL1JB9K8ihg96q6DaDd79baLwZuGVh/bastbo+H65IkSfPabAa3bYFnAKdV1dOBu2jDouMYNW+tJqhvuoFkRZJVSVZt2LBhqv2VJEnaqsxmcFsLrK2qy9vzT9AFudvb8Cftfv1A+z0H1l8CrGv1JSPqm6iq06tqeVUtX7Ro0bS9EEmSpLkwa8Gtqv4PcEuSJ7XSQcB1wAXAUa12FHB+e3wBcGSSRyTZi+4khCvacOrGJAe2s0lfNbCOJEnSvLXtLO/vdcA5SX4BuAn4Q7rwuDLJ0cB3gCMAquraJCvpwt29wHFVdV/bzrHAGcB2wGfbTZIkaV6b1eBWVVcBy0csOmic9icBJ42orwL2ndbOSZIkbeX85ARJkqSeMLhJkiT1hMFNkiSpJwxukiRJPWFwkyRJ6gmDmyRJUk8Y3CRJknrC4CZJktQTBjdJkqSeMLhJkiT1hMFNkiSpJwxukiRJPWFwkyRJ6gmDmyRJUk8Y3CRJknrC4CZJktQTBjdJkqSeMLhJkiT1hMFNkiSpJwxukiRJPWFwkyRJ6gmDmyRJUk8Y3CRJknrC4CZJktQTBjdJkqSeMLhJkiT1hMFNkiSpJwxukiRJPWFwkyRJ6gmDmyRJUk/ManBLsibJ1UmuSrKq1XZJclGSG9v9zgPtT0yyOskNSV4yUN+/bWd1klOSZDZfhyRJ0lyYiyNuz6+qp1XV8vb8BODiqloGXNyek2Rv4EhgH+Bg4NQk27R1TgNWAMva7eBZ7L8kSdKc2BqGSg8FzmyPzwQOG6ifW1X3VNXNwGrggCR7ADtW1WVVVcBZA+tIkiTNW7Md3Ar4fJIrk6xotd2r6jaAdr9bqy8GbhlYd22rLW6Ph+ubSLIiyaokqzZs2DCNL0OSJGn2bTvL+3tOVa1LshtwUZJvTdB21Ly1mqC+abHqdOB0gOXLl49sI0mS1BezesStqta1+/XAecABwO1t+JN2v741XwvsObD6EmBdqy8ZUZckSZrXZi24JXlUkkePPQZeDFwDXAAc1ZodBZzfHl8AHJnkEUn2ojsJ4Yo2nLoxyYHtbNJXDawjSZI0b83mUOnuwHntyh3bAv9QVf+c5KvAyiRHA98BjgCoqmuTrASuA+4Fjquq+9q2jgXOALYDPttukiRJ89qsBbequgnYb0T9e8BB46xzEnDSiPoqYN/p7qMkSdLWbGu4HIgkSZImweAmSZLUEwY3SZKknjC4SZIk9YTBTZIkqScMbpIkST1hcJMkSeoJg5skSVJPGNwkSZJ6wuAmSZLUEwY3SZKknjC4SZIk9YTBTZIkqScMbpIkST1hcJMkSeoJg5skSVJPGNwkSZJ6wuAmSZLUEwY3SZKknjC4SZIk9YTBTZIkqScMbpIkST1hcJMkSeoJg5skSVJPGNwkSZJ6wuAmSZLUEwY3SZKknjC4SZIk9YTBTZIkqScMbpIkST0x68EtyTZJvp7k0+35LkkuSnJju995oO2JSVYnuSHJSwbq+ye5ui07JUlm+3VIkiTNtrk44vZ64PqB5ycAF1fVMuDi9pwkewNHAvsABwOnJtmmrXMasAJY1m4Hz07XJUmS5s6sBrckS4CXAR8aKB8KnNkenwkcNlA/t6ruqaqbgdXAAUn2AHasqsuqqoCzBtaRJEmat2b7iNt7gTcB9w/Udq+q2wDa/W6tvhi4ZaDd2lZb3B4P1zeRZEWSVUlWbdiwYVpegCRJ0lyZdHBL8twk246ob5vkuZNY/zeB9VV15WR3OaJWE9Q3LVadXlXLq2r5okWLJrlbSZKkrdMmQWwCXwT2ANYP1Xdqy7bZZI0Hew7w20kOAR4J7JjkbOD2JHtU1W1tGHRs+2uBPQfWXwKsa/UlI+qSJEnz2lSGSsPoI1uPBe7a3MpVdWJVLamqpXQnHVxSVX8AXAAc1ZodBZzfHl8AHJnkEUn2ojsJ4Yo2nLoxyYHtbNJXDawjSZI0b232iFuSC9rDAs5Ocs/A4m2AfYEvP4Q+nAysTHI08B3gCICqujbJSuA64F7guKq6r61zLHAGsB3w2XaTJEma1yYzVPq9dh/gB8BPBpb9FPhX4INT2WlVXQpc2h5/DzhonHYnASeNqK+iC4ySJEkLxmaDW1X9IUCSNcC7q2qzw6KSJEmafpM+OaGq3j6THZEkSdLEJh3ckuxCN2x5EN211h50YkNV7Ti9XZMkSdKgqVwO5MPA04HT6S6/MfLaaZIkSZoZUwluBwEvqqrLZ6ozkiRJGt9UruO2HrhzpjoiSZKkiU0luL0FeEeSHWaqM5IkSRrfVIZK/wJYCqxP8m3gZ4MLq+qp09gvSZIkDZlKcPvEjPVCkiRJm+V13CRJknpiKnPcJEmSNIemcgHejUxw7TYvwCtJkjSzpjLH7bVDzx9Od0He32HEB8FLkiRpek1ljtuZo+pJvkZ3cd73T1enJEmStKnpmOP2ReC3pmE7kiRJmsB0BLcjge9Ow3YkSZI0gamcnHA1Dz45IcDuwC7AsdPcL0mSJA15KBfgvR/YAFxaVd+avi5JkiRpFC/AK0mS1BNTOeIGQJIXAHvTDZteW1WXTnenJEmStKmpzHFbDJwH7A+sa+XHJVkFHF5V68ZdeYFYesKFc90FacFbc/LL5roLkjRjpnJW6SnAfcATq2rPqtoTWNZqp8xE5yRJkvSAqQyVvgh4XlXdPFaoqpuS/Clw8bT3TJIkSQ8yHddxu38atiFJkqTNmEpwuxg4JcmeY4Ukjwfeh0fcJEmSZtxUgtufAtsDNyX5dpI1wH+02p/OQN8kSZI0YCrXcbsFeEaSFwFPpvvkhOuq6gsz1TlJkiQ9YLNH3JK8NMmaJDsBVNVFVfX+qjoF+Gpb9uIZ76kkSdICN5mh0tcC76qqO4YXtNo7gddPd8ckSZL0YJMJbk8FJhoOvQTYb3MbSfLIJFck+UaSa5O8vdV3SXJRkhvb/c4D65yYZHWSG5K8ZKC+f5Kr27JTkmQSr0OSJKnXJhPcFjHxJT8KeOwktnMP8IKq2g94GnBwkgOBE4CLq2oZ3dmpJwAk2Rs4EtgHOBg4Nck2bVunASvoLgC8rC2XJEma1yYT3NbSHXUbz1OBWze3kerc2Z4+vN0KOBQ4s9XPBA5rjw8Fzq2qe9pFf1cDByTZA9ixqi6rqgLOGlhHkiRp3ppMcLsQ+Ksk2w0vSLI98I7WZrOSbJPkKmA9cFFVXQ7sXlW3AbT73VrzxcAtA6uvbbXF7fFwXZIkaV6bzOVATgJ+F7gxyfuBb7X6U+hOXAjwN5PZWVXdBzwtyWOA85LsO0HzUfPWaoL6phtIVtANqfL4xz9+Ml2UJEnaam02uFXV+iS/Sjev7G94IDgV8DngNVV1+1R2WlU/THIp3dy025PsUVW3tWHQ9a3ZWmDPgdWWAOtafcmI+qj9nA6cDrB8+fKR4U6SJKkvJvXJCVX17ao6BNgVeBZwILBrVR1SVWsms40ki9qRNtqw6wvpjt5dABzVmh0FnN8eXwAcmeQRSfaiOwnhijacujHJge1s0lcNrCNJkjRvTfqTEwCq6gfAV7dwX3sAZ7YzQx8GrKyqTye5DFiZ5GjgO8ARbV/XJlkJXAfcCxzXhloBjgXOALYDPttukiRJ89qUgttDUVXfBJ4+ov494KBx1jmJbo7dcH0VMNH8OEmSpHlnKh8yL0mSpDlkcJMkSeoJg5skSVJPGNwkSZJ6wuAmSZLUEwY3SZKknjC4SZIk9YTBTZIkqScMbpIkST1hcJMkSeoJg5skSVJPGNwkSZJ6wuAmSZLUEwY3SZKknjC4SZIk9YTBTZIkqScMbpIkST1hcJMkSeoJg5skSVJPGNwkSZJ6wuAmSZLUEwY3SZKknjC4SZIk9YTBTZIkqScMbpIkST1hcJMkSeoJg5skSVJPGNwkSZJ6wuAmSZLUEwY3SZKknpi14JZkzyRfTHJ9kmuTvL7Vd0lyUZIb2/3OA+ucmGR1khuSvGSgvn+Sq9uyU5Jktl6HJEnSXJnNI273AsdX1VOAA4HjkuwNnABcXFXLgIvbc9qyI4F9gIOBU5Ns07Z1GrACWNZuB8/i65AkSZoTsxbcquq2qvpae7wRuB5YDBwKnNmanQkc1h4fCpxbVfdU1c3AauCAJHsAO1bVZVVVwFkD60iSJM1bczLHLclS4OnA5cDuVXUbdOEO2K01WwzcMrDa2lZb3B4P1yVJkua1WQ9uSXYA/n/gDVX1o4majqjVBPVR+1qRZFWSVRs2bJh6ZyVJkrYisxrckjycLrSdU1WfbOXb2/An7X59q68F9hxYfQmwrtWXjKhvoqpOr6rlVbV80aJF0/dCJEmS5sBsnlUa4MPA9VX1noFFFwBHtcdHAecP1I9M8ogke9GdhHBFG07dmOTAts1XDawjSZI0b207i/t6DvBK4OokV7Xam4GTgZVJjga+AxwBUFXXJlkJXEd3RupxVXVfW+9Y4AxgO+Cz7SZJkjSvzVpwq6p/ZfT8NICDxlnnJOCkEfVVwL7T1ztJkqStn5+cIEmS1BMGN0mSpJ4wuEmSJPWEwU2SJKknDG6SJEk9YXCTJEnqCYObJElSTxjcJEmSesLgJkmS1BMGN0mSpJ4wuEmSJPWEwU2SJKknDG6SJEk9YXCTJEnqCYObJElSTxjcJEmSesLgJkmS1BMGN0mSpJ4wuEmSJPWEwU2SJKknDG6SJEk9YXCTJEnqCYObJElSTxjcJEmSesLgJkmS1BMGN0mSpJ4wuEmSJPWEwU2SJKknDG6SJEk9YXCTJEnqiVkLbkk+kmR9kmsGarskuSjJje1+54FlJyZZneSGJC8ZqO+f5Oq27JQkma3XIEmSNJdm84jbGcDBQ7UTgIurahlwcXtOkr2BI4F92jqnJtmmrXMasAJY1m7D25QkSZqXZi24VdW/AN8fKh8KnNkenwkcNlA/t6ruqaqbgdXAAUn2AHasqsuqqoCzBtaRJEma1+Z6jtvuVXUbQLvfrdUXA7cMtFvbaovb4+G6JEnSvDfXwW08o+at1QT10RtJViRZlWTVhg0bpq1zkiRJc2Gug9vtbfiTdr++1dcCew60WwKsa/UlI+ojVdXpVbW8qpYvWrRoWjsuSZI02+Y6uF0AHNUeHwWcP1A/MskjkuxFdxLCFW04dWOSA9vZpK8aWEeSJGle23a2dpTkH4HnAbsmWQu8FTgZWJnkaOA7wBEAVXVtkpXAdcC9wHFVdV/b1LF0Z6huB3y23SRJkua9WQtuVfX74yw6aJz2JwEnjaivAvadxq5JkiT1wlwPlUqSJGmSDG6SJEk9YXCTJEnqCYObJElSTxjcJEmSesLgJkmS1BMGN0mSpJ4wuEmSJPWEwU2SJKknDG6SJEk9YXCTJEnqCYObJElSTxjcJEmSesLgJkmS1BMGN0mSpJ4wuEmSJPWEwU2SJKknDG6SJEk9YXCTJEnqCYObJElSTxjcJEmSesLgJkmS1BMGN0mSpJ4wuEmSJPWEwU2SJKknDG6SJEk9YXCTJEnqCYObJElSTxjcJEmSesLgJkmS1BO9DW5JDk5yQ5LVSU6Y6/5IkiTNtF4GtyTbAB8AXgrsDfx+kr3ntleSJEkzq5fBDTgAWF1VN1XVT4FzgUPnuE+SJEkzqq/BbTFwy8Dzta0mSZI0b2071x3YQhlRq00aJSuAFe3pnUlumNFeaT7YFfjuXHdCWy7vnOseSJvl+0yPzeJ7zBNGFfsa3NYCew48XwKsG25UVacDp89Wp9R/SVZV1fK57oek+cv3GT0UfR0q/SqwLMleSX4BOBK4YI77JEmSNKN6ecStqu5N8lrgc8A2wEeq6to57pYkSdKM6mVwA6iqzwCfmet+aN5xaF3STPN9RlssVZvM6ZckSdJWqK9z3CRJkhYcg5sWrCRvSLL9XPdDUn8lOSPJ7851P7RwGNy0kL0BMLhJknrD4KYFIcmjklyY5BtJrknyVuBxwBeTfLG1OS3JqiTXJnl7qx2U5LyB7bwoySfn5lVImmtJXpXkm+295GOt/NwkX05y09jRtyQ7JLk4ydeSXJ3k0FZfmuT6JB9s7zWfT7JdW/bMtu3LkrwryTWtvk17/tW2/Jg5efHaKhjctFAcDKyrqv2qal/gvXQXbX5+VT2/tXlLuyjmU4HfSPJU4BLgKUkWtTZ/CHx0drsuaWuQZB/gLcALqmo/4PVt0R7ArwG/CZzcancDh1fVM4DnA/89ydin/iwDPlBV+wA/BH6n1T8K/ElVPRu4b2DXRwN3VNUzgWcCf5xkrxl4ieoBg5sWiquBFyZ5Z5Jfr6o7RrT5vSRfA74O7APsXd1p1x8D/iDJY4BnA5+drU5L2qq8APhEVX0XoKq+3+r/VFX3V9V1wO6tFuBvknwT+ALd52mPLbu5qq5qj68Elrb3l0dX1Zdb/R8G9vti4FVJrgIuBx5LF/60APX2Om7SVFTVvyfZHzgE+Nsknx9c3v57fSPwzKr6QZIzgEe2xR8FPkX3H/THq+re2eu5pK1IGPG52MA9Q20AXgEsAvavqp8lWcMD7ymD7e8DtmP0Z3APbvN1VfW5Lem05hePuGlBSPI44MdVdTbwbuAZwEbg0a3JjsBdwB1JdgdeOrZuVa2jG1b9C+CMWey2pK3LxXRH5h8LkGSXCdruBKxvoe35jPOB4WOq6gfAxiQHttKRA4s/Bxyb5OFtv7+c5FFb+iLUbx5x00LxK8C7ktwP/Aw4ljbsmeS2qnp+kq8D1wI3Af82tP45wKI2FCJpAaqqa5OcBPzvJPfRTasYzznAp5KsAq4CvjWJXRwNfDDJXcClwNiUjg8BS4GvtXlyG4DDtuAlaB7wkxOkSUjyd8DXq+rDc90XSfNTkh2q6s72+ARgj6p6/WZW0wLjETdpM5JcSTeMevxc90XSvPayJCfS/W3+NvDque2OtkYecZMkSeoJT06QJEnqCYObJElSTxjcJEmSesLgJklNkhr7rMmHsI23jX3GpCRNN4ObpAUjye5J3pfkP5Lck+TWJJ9Ncsg07ubdwG9M4/Yk6ee8HIikBSHJUroLK28ETgS+QffP60HA3wOPn479tOtw3Tkd25KkYR5xk7RQnEr3mY/Lq2plVd1QVddX1d8B+w202yXJx5PcleSmJH8wuJEkv5LkC0l+kuT7Sc5IstPA8k2GSpMcleTqdpTv9vZZuGPLdkpyepL1STYm+d9Jls/IV0BS7xncJM177TMlDwb+buzK9IPa50SO+a/A+XRh7n8BH0nyhLad7YF/pjuidgBwOPCrwEcm2PcxwP8EPgo8FTiE7qPVaB9fdCGwGPhN4OnAvwCXJNljy1+xpPnKoVJJC8ET6Y62XT+Jth+rqrMBkvwl8Hrg1+muZP8KYAfglVW1sbVZAXwxyROravWI7f0l8N6qes9A7cp2/3zgaXSfg/uTsfZJfgt4JfDfJv8SJS0EBjdJC0Gm0PabYw+q6t4kG4DdWukpwDfHQlvzZeB+YG/gQcEtyW50R9MuHmdf+wPbAxu6g28/90jgP02hz5IWCIObpIXgRqDogtd5m2n7s6HnxQPTStKejzKqvrnA+DDgdrojesN+tJl1JS1AznGTNO9V1feBzwGvTbLD8PIkj5nkpq4D9kvy6IHar9K9l24yDFtVtwO30p25OsrXgN2B+6tq9dBt/ST7JGkBMbhJWiheQ3cEbFWSI5I8KcmTkxzLwPDoZpwD3AWc1c4ufS7diQefHGd+G8BJwBuS/FmSX07ytCTHt2VfoLtEyflJXppkryTPTvL2JKOOwkla4AxukhaEqroZeAZwEfBOurB2CfDbwDGT3MaPgZcAOwJX0J19ehnwRxOscxpwHPDHwDV0Z6Xu05YV3VmmlwAfBG4AVgJPAtZN8SVKWgDSvW9IkiRpa+cRN0mSpJ4wuEmSJPWEwU2SJKknDG6SJEk9YXCTJEnqCYObJElSTxjcJEmSesLgJkmS1BMGN0mSpJ74v1zP08D3gWSKAAAAAElFTkSuQmCC\n",
=======
      "image/png": "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\n",
>>>>>>> 56848a15d01e8fced0e7c1fee4b4f17d1b475ea6
      "text/plain": [
       "<Figure size 720x360 with 1 Axes>"
      ]
     },
     "metadata": {
      "needs_background": "light"
     },
     "output_type": "display_data"
    }
   ],
   "source": [
<<<<<<< HEAD
    "count = simulation(10000) # simulation result\n",
    "visualization(count) #"
   ]
  },
  {
   "cell_type": "code",
   "execution_count": 46,
   "id": "eb96a404",
   "metadata": {
    "ExecuteTime": {
     "end_time": "2022-09-23T13:11:03.572663Z",
     "start_time": "2022-09-23T13:11:00.928741Z"
    }
   },
   "outputs": [
    {
     "name": "stdout",
     "output_type": "stream",
     "text": [
      "몬티홀을 반복할 횟수를 입력하세요: 100\n",
      "성공 69번, 실패 31번, 성공확률69.000000%입니다.\n"
     ]
    }
   ],
   "source": [
    "# Created by Yongho Kim\n",
=======
>>>>>>> 56848a15d01e8fced0e7c1fee4b4f17d1b475ea6
    "import numpy as np\n",
    "import random\n",
    "from random import randint\n",
    "import matplotlib.pyplot as plt\n",
    "\n",
    "\n",
    "k=int(input('몬티홀을 반복할 횟수를 입력하세요: '))\n",
    "\n",
    "def montihall(time):\n",
    "    success=0\n",
    "    failure=0\n",
    "    for i in range(time):\n",
    "        car = randint(0,2) \n",
    "        doors = [0, 0, 0]\n",
    "        doors[car] +=1 \n",
    "        choice = randint(0,2)\n",
    "\n",
    "        if doors[choice]==0: \n",
    "            doors[choice]+=2\n",
    "        else: \n",
    "            doors[choice] = 3\n",
    "        doors.remove(0) \n",
    "        if 2 in doors:\n",
    "            success += 1\n",
    "        else :\n",
    "            failure += 1\n",
    "    arr = [success, failure, success + failure, success/(success+failure)]\n",
    "    return arr\n",
<<<<<<< HEAD
    "arr = montihall(k)\n",
    "print('성공 %d번, 실패 %d번, 성공확률%f%%입니다.'%(arr[0], arr[1], arr[3]*100))"
   ]
  },
  {
   "cell_type": "code",
   "execution_count": 80,
   "id": "d578002b",
   "metadata": {
    "ExecuteTime": {
     "end_time": "2022-09-23T16:55:38.587761Z",
     "start_time": "2022-09-23T16:55:38.579753Z"
    }
   },
   "outputs": [],
   "source": [
    "# Visualization for Yongho Kim's simulator result\n",
=======
>>>>>>> 56848a15d01e8fced0e7c1fee4b4f17d1b475ea6
    "def visualization_team(arr):\n",
    "    print(f\"선택지를 바꿨을 때, 성공확률은 {arr[3] * 100}%입니다.\")\n",
    "    plt.figure(figsize=(12,6))\n",
    "    plt.bar(['Success', 'Failure'], arr[:2])\n",
<<<<<<< HEAD
    "    plt.title(f\"Monti Hall {arr[0] + arr[1]} times simulation when change choice\",\n",
    "              fontsize=18)\n",
    "    plt.xlabel('Result', fontsize=14)\n",
    "    plt.ylabel('Count', fontsize=14)\n",
    "    plt.show()"
   ]
  },
  {
   "cell_type": "code",
   "execution_count": 81,
   "id": "55f27ada",
   "metadata": {
    "ExecuteTime": {
     "end_time": "2022-09-23T16:55:38.707870Z",
     "start_time": "2022-09-23T16:55:38.603776Z"
    }
   },
   "outputs": [
    {
     "name": "stdout",
     "output_type": "stream",
     "text": [
      "선택지를 바꿨을 때, 성공확률은 69.0%입니다.\n"
     ]
    },
    {
     "data": {
      "image/png": "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\n",
      "text/plain": [
       "<Figure size 864x432 with 1 Axes>"
      ]
     },
     "metadata": {
      "needs_background": "light"
     },
     "output_type": "display_data"
    }
   ],
   "source": [
=======
    "    plt.show()\n",
    "    \n",
    "arr = montihall(k)\n",
>>>>>>> 56848a15d01e8fced0e7c1fee4b4f17d1b475ea6
    "visualization_team(arr)"

   ]
  },
  {
   "cell_type": "code",

   "execution_count": null,
<<<<<<< HEAD
   "id": "ca28579b",
=======
   "id": "ba04dcde",

>>>>>>> 56848a15d01e8fced0e7c1fee4b4f17d1b475ea6
   "metadata": {},
   "outputs": [],
   "source": []
  }
 ],
 "metadata": {
  "hide_input": false,
  "kernelspec": {
   "display_name": "Python 3",
   "language": "python",
   "name": "python3"
  },
  "language_info": {
   "codemirror_mode": {
    "name": "ipython",
    "version": 3
   },
   "file_extension": ".py",
   "mimetype": "text/x-python",
   "name": "python",
   "nbconvert_exporter": "python",
   "pygments_lexer": "ipython3",
   "version": "3.8.8"
  },
  "toc": {
   "base_numbering": 1,
   "nav_menu": {},
   "number_sections": true,
   "sideBar": true,
   "skip_h1_title": false,
   "title_cell": "Table of Contents",
   "title_sidebar": "Contents",
   "toc_cell": false,
   "toc_position": {},
   "toc_section_display": true,
   "toc_window_display": false
  },
  "varInspector": {
   "cols": {
    "lenName": 16,
    "lenType": 16,
    "lenVar": 40
   },
   "kernels_config": {
    "python": {
     "delete_cmd_postfix": "",
     "delete_cmd_prefix": "del ",
     "library": "var_list.py",
     "varRefreshCmd": "print(var_dic_list())"
    },
    "r": {
     "delete_cmd_postfix": ") ",
     "delete_cmd_prefix": "rm(",
     "library": "var_list.r",
     "varRefreshCmd": "cat(var_dic_list()) "
    }
   },
   "types_to_exclude": [
    "module",
    "function",
    "builtin_function_or_method",
    "instance",
    "_Feature"
   ],
   "window_display": false
  }
 },
 "nbformat": 4,
 "nbformat_minor": 5
}
